{
 "cells": [
  {
   "cell_type": "markdown",
   "source": [
    "# 1. instrall libraries"
   ],
   "metadata": {
    "collapsed": false,
    "pycharm": {
     "name": "#%% md\n"
    }
   }
  },
  {
   "cell_type": "code",
   "execution_count": 2,
   "outputs": [
    {
     "name": "stdout",
     "output_type": "stream",
     "text": [
      "Collecting cython\n",
      "  Downloading Cython-0.29.30-py2.py3-none-any.whl (985 kB)\n",
      "     ------------------------------------- 985.1/985.1 KB 12.5 MB/s eta 0:00:00\n",
      "Installing collected packages: cython\n",
      "Successfully installed cython-0.29.30\n",
      "Note: you may need to restart the kernel to use updated packages.\n"
     ]
    },
    {
     "name": "stderr",
     "output_type": "stream",
     "text": [
      "WARNING: You are using pip version 22.0.4; however, version 22.1.2 is available.\n",
      "You should consider upgrading via the 'C:\\Users\\bae\\AppData\\Local\\Programs\\Python\\Python310\\python.exe -m pip install --upgrade pip' command.\n"
     ]
    }
   ],
   "source": [
    "!pip install cython"
   ],
   "metadata": {
    "collapsed": false,
    "pycharm": {
     "name": "#%%\n"
    }
   }
  },
  {
   "cell_type": "code",
   "execution_count": 3,
   "outputs": [
    {
     "name": "stdout",
     "output_type": "stream",
     "text": [
      "Collecting git+https://github.com/mayukh18/reco\n",
      "  Cloning https://github.com/mayukh18/reco to c:\\users\\bae\\appdata\\local\\temp\\pip-req-build-96tu95cz\n",
      "  Resolved https://github.com/mayukh18/reco to commit 7f0bfc40edc6c21afef4314ee30605766281990b\n",
      "  Preparing metadata (setup.py): started\n",
      "  Preparing metadata (setup.py): finished with status 'done'\n",
      "Requirement already satisfied: numpy in c:\\users\\bae\\appdata\\local\\programs\\python\\python310\\lib\\site-packages (from reco==0.2.1) (1.22.3)\n",
      "Requirement already satisfied: pandas in c:\\users\\bae\\appdata\\local\\programs\\python\\python310\\lib\\site-packages (from reco==0.2.1) (1.4.2)\n",
      "Requirement already satisfied: python-dateutil>=2.8.1 in c:\\users\\bae\\appdata\\local\\programs\\python\\python310\\lib\\site-packages (from pandas->reco==0.2.1) (2.8.2)\n",
      "Requirement already satisfied: pytz>=2020.1 in c:\\users\\bae\\appdata\\local\\programs\\python\\python310\\lib\\site-packages (from pandas->reco==0.2.1) (2022.1)\n",
      "Requirement already satisfied: six>=1.5 in c:\\users\\bae\\appdata\\local\\programs\\python\\python310\\lib\\site-packages (from python-dateutil>=2.8.1->pandas->reco==0.2.1) (1.16.0)\n",
      "Building wheels for collected packages: reco\n",
      "  Building wheel for reco (setup.py): started\n",
      "  Building wheel for reco (setup.py): finished with status 'done'\n",
      "  Created wheel for reco: filename=reco-0.2.1-cp310-cp310-win_amd64.whl size=1590067 sha256=bce943bc85f504d4b50ef5af314765ca2edf71e056add440e248572ad2eae831\n",
      "  Stored in directory: C:\\Users\\bae\\AppData\\Local\\Temp\\pip-ephem-wheel-cache-kqmolc57\\wheels\\08\\84\\1f\\4f54fb9df6f7483c6d24d46bca75446401623e035556af4c70\n",
      "Successfully built reco\n",
      "Installing collected packages: reco\n",
      "Successfully installed reco-0.2.1\n"
     ]
    },
    {
     "name": "stderr",
     "output_type": "stream",
     "text": [
      "  Running command git clone --filter=blob:none --quiet https://github.com/mayukh18/reco 'C:\\Users\\bae\\AppData\\Local\\Temp\\pip-req-build-96tu95cz'\n",
      "WARNING: You are using pip version 22.0.4; however, version 22.1.2 is available.\n",
      "You should consider upgrading via the 'C:\\Users\\bae\\AppData\\Local\\Programs\\Python\\Python310\\python.exe -m pip install --upgrade pip' command.\n"
     ]
    }
   ],
   "source": [
    "!pip install git+https://github.com/mayukh18/reco"
   ],
   "metadata": {
    "collapsed": false,
    "pycharm": {
     "name": "#%%\n"
    }
   }
  },
  {
   "cell_type": "code",
   "execution_count": 4,
   "outputs": [
    {
     "name": "stdout",
     "output_type": "stream",
     "text": [
      "Requirement already satisfied: reco in c:\\users\\bae\\appdata\\local\\programs\\python\\python310\\lib\\site-packages (0.2.1)\n",
      "Requirement already satisfied: pandas in c:\\users\\bae\\appdata\\local\\programs\\python\\python310\\lib\\site-packages (from reco) (1.4.2)\n",
      "Requirement already satisfied: numpy in c:\\users\\bae\\appdata\\local\\programs\\python\\python310\\lib\\site-packages (from reco) (1.22.3)\n",
      "Requirement already satisfied: pytz>=2020.1 in c:\\users\\bae\\appdata\\local\\programs\\python\\python310\\lib\\site-packages (from pandas->reco) (2022.1)\n",
      "Requirement already satisfied: python-dateutil>=2.8.1 in c:\\users\\bae\\appdata\\local\\programs\\python\\python310\\lib\\site-packages (from pandas->reco) (2.8.2)\n",
      "Requirement already satisfied: six>=1.5 in c:\\users\\bae\\appdata\\local\\programs\\python\\python310\\lib\\site-packages (from python-dateutil>=2.8.1->pandas->reco) (1.16.0)\n"
     ]
    },
    {
     "name": "stderr",
     "output_type": "stream",
     "text": [
      "WARNING: You are using pip version 22.0.4; however, version 22.1.2 is available.\n",
      "You should consider upgrading via the 'C:\\Users\\bae\\AppData\\Local\\Programs\\Python\\Python310\\python.exe -m pip install --upgrade pip' command.\n"
     ]
    }
   ],
   "source": [
    "!pip install reco"
   ],
   "metadata": {
    "collapsed": false,
    "pycharm": {
     "name": "#%%\n"
    }
   }
  },
  {
   "cell_type": "code",
   "execution_count": 5,
   "outputs": [],
   "source": [
    "import warnings\n",
    "warnings.filterwarnings(\"ignore\")\n",
    "\n",
    "import numpy as np\n",
    "import pandas as pd\n",
    "import os\n",
    "import glob\n",
    "import reco\n",
    "from tqdm import tqdm\n",
    "import datetime\n",
    "from collections import Counter"
   ],
   "metadata": {
    "collapsed": false,
    "pycharm": {
     "name": "#%%\n"
    }
   }
  },
  {
   "cell_type": "markdown",
   "source": [
    "# 2. transaction dataset 불러오기"
   ],
   "metadata": {
    "collapsed": false,
    "pycharm": {
     "name": "#%% md\n"
    }
   }
  },
  {
   "cell_type": "code",
   "execution_count": 7,
   "outputs": [
    {
     "data": {
      "text/plain": "       t_dat                                        customer_id  article_id  \\\n0 2018-09-20  000058a12d5b43e67d225668fa1f8d618c13dc232df0ca...  0663713001   \n1 2018-09-20  000058a12d5b43e67d225668fa1f8d618c13dc232df0ca...  0541518023   \n2 2018-09-20  00007d2de826758b65a93dd24ce629ed66842531df6699...  0505221004   \n3 2018-09-20  00007d2de826758b65a93dd24ce629ed66842531df6699...  0685687003   \n4 2018-09-20  00007d2de826758b65a93dd24ce629ed66842531df6699...  0685687004   \n\n      price  sales_channel_id  \n0  0.050831                 2  \n1  0.030492                 2  \n2  0.015237                 2  \n3  0.016932                 2  \n4  0.016932                 2  ",
      "text/html": "<div>\n<style scoped>\n    .dataframe tbody tr th:only-of-type {\n        vertical-align: middle;\n    }\n\n    .dataframe tbody tr th {\n        vertical-align: top;\n    }\n\n    .dataframe thead th {\n        text-align: right;\n    }\n</style>\n<table border=\"1\" class=\"dataframe\">\n  <thead>\n    <tr style=\"text-align: right;\">\n      <th></th>\n      <th>t_dat</th>\n      <th>customer_id</th>\n      <th>article_id</th>\n      <th>price</th>\n      <th>sales_channel_id</th>\n    </tr>\n  </thead>\n  <tbody>\n    <tr>\n      <th>0</th>\n      <td>2018-09-20</td>\n      <td>000058a12d5b43e67d225668fa1f8d618c13dc232df0ca...</td>\n      <td>0663713001</td>\n      <td>0.050831</td>\n      <td>2</td>\n    </tr>\n    <tr>\n      <th>1</th>\n      <td>2018-09-20</td>\n      <td>000058a12d5b43e67d225668fa1f8d618c13dc232df0ca...</td>\n      <td>0541518023</td>\n      <td>0.030492</td>\n      <td>2</td>\n    </tr>\n    <tr>\n      <th>2</th>\n      <td>2018-09-20</td>\n      <td>00007d2de826758b65a93dd24ce629ed66842531df6699...</td>\n      <td>0505221004</td>\n      <td>0.015237</td>\n      <td>2</td>\n    </tr>\n    <tr>\n      <th>3</th>\n      <td>2018-09-20</td>\n      <td>00007d2de826758b65a93dd24ce629ed66842531df6699...</td>\n      <td>0685687003</td>\n      <td>0.016932</td>\n      <td>2</td>\n    </tr>\n    <tr>\n      <th>4</th>\n      <td>2018-09-20</td>\n      <td>00007d2de826758b65a93dd24ce629ed66842531df6699...</td>\n      <td>0685687004</td>\n      <td>0.016932</td>\n      <td>2</td>\n    </tr>\n  </tbody>\n</table>\n</div>"
     },
     "execution_count": 7,
     "metadata": {},
     "output_type": "execute_result"
    }
   ],
   "source": [
    "data = pd.read_csv(\"./transactions_train.csv\", dtype={'article_id':str})\n",
    "data[\"t_dat\"] = pd.to_datetime(data[\"t_dat\"])\n",
    "data.head()"
   ],
   "metadata": {
    "collapsed": false,
    "pycharm": {
     "name": "#%%\n"
    }
   }
  },
  {
   "cell_type": "markdown",
   "source": [
    "### 2.1 transaction dataset을 날짜로 분류"
   ],
   "metadata": {
    "collapsed": false,
    "pycharm": {
     "name": "#%% md\n"
    }
   }
  },
  {
   "cell_type": "code",
   "execution_count": 8,
   "outputs": [],
   "source": [
    "train1 = data.loc[(data[\"t_dat\"] >= datetime.datetime(2020,9,16)) & (data['t_dat'] < datetime.datetime(2020,9,23))]\n",
    "train2 = data.loc[(data[\"t_dat\"] >= datetime.datetime(2020,9,8)) & (data['t_dat'] < datetime.datetime(2020,9,16))]\n",
    "train3 = data.loc[(data[\"t_dat\"] >= datetime.datetime(2020,8,31)) & (data['t_dat'] < datetime.datetime(2020,9,8))]\n",
    "train4 = data.loc[(data[\"t_dat\"] >= datetime.datetime(2020,8,23)) & (data['t_dat'] < datetime.datetime(2020,8,31))]\n",
    "\n",
    "positive_items_per_user1 = train1.groupby(['customer_id'])['article_id'].apply(list)\n",
    "positive_items_per_user2 = train2.groupby(['customer_id'])['article_id'].apply(list)\n",
    "positive_items_per_user3 = train3.groupby(['customer_id'])['article_id'].apply(list)\n",
    "positive_items_per_user4 = train4.groupby(['customer_id'])['article_id'].apply(list)\n",
    "\n",
    "train = pd.concat([train1, train2], axis=0)\n",
    "train['pop_factor'] = train['t_dat'].apply(lambda x: 1/(datetime.datetime(2020,9,23) - x).days)\n",
    "popular_items_group = train.groupby(['article_id'])['pop_factor'].sum()\n",
    "\n",
    "_, popular_items = zip(*sorted(zip(popular_items_group, popular_items_group.keys()))[::-1])\n",
    "\n",
    "user_group = pd.concat([train1, train2, train3, train4], axis=0).groupby(['customer_id'])['article_id'].apply(list)"
   ],
   "metadata": {
    "collapsed": false,
    "pycharm": {
     "name": "#%%\n"
    }
   }
  },
  {
   "cell_type": "markdown",
   "source": [
    "### 2.2 'feedback' column을 추가하여 각 고객과 제품별 인기도를 구한다."
   ],
   "metadata": {
    "collapsed": false,
    "pycharm": {
     "name": "#%% md\n"
    }
   }
  },
  {
   "cell_type": "code",
   "execution_count": 9,
   "outputs": [
    {
     "data": {
      "text/plain": "count    1.020512e+06\nmean     7.597183e-01\nstd      1.431037e+00\nmin      6.119724e-03\n25%      4.992918e-02\n50%      1.387718e-01\n75%      5.250353e-01\nmax      5.000000e+00\nName: feedback, dtype: float64"
     },
     "execution_count": 9,
     "metadata": {},
     "output_type": "execute_result"
    }
   ],
   "source": [
    "# SVD\n",
    "train = pd.concat([train1, train2, train3, train4], axis=0)\n",
    "train['pop_factor'] = train['t_dat'].apply(lambda x: 1/(datetime.datetime(2020,9,23) - x).days**2)\n",
    "popular_items_group = train.groupby(['article_id'])['pop_factor'].sum()\n",
    "\n",
    "train['feedback'] = 1\n",
    "train = train.groupby(['customer_id', 'article_id']).sum().reset_index()\n",
    "\n",
    "train['feedback'] = train.apply(lambda row: row['feedback']/popular_items_group[row['article_id']], axis=1)\n",
    "\n",
    "train['feedback'] = train['feedback'].apply(lambda x: 5.0 if x>5.0 else x)\n",
    "train.drop(['price', 'sales_channel_id'], axis=1, inplace=True)\n",
    "train['feedback'].describe()"
   ],
   "metadata": {
    "collapsed": false,
    "pycharm": {
     "name": "#%%\n"
    }
   }
  },
  {
   "cell_type": "code",
   "execution_count": 10,
   "outputs": [
    {
     "data": {
      "text/plain": "                                         customer_id  article_id  pop_factor  \\\n0  e69e88c32307b9b25f5a3d9652d5ff0f100698ce3ebfcb...  0903735001    0.001479   \n1  383cae9bf5af0681eb0c5d016f2ef2e5b50c112fee7aa1...  0815550001    0.001736   \n2  764fe28ed006f8413d8d8ccad3c24c2c0a2df51ae949a4...  0769102040    0.002770   \n3  3d9cf1d1c74ed4435d064b4c71e45305e19901a2c59c45...  0610776105    0.001189   \n4  f7c660bcb16f62b79329582c969eb155e47d70f4ba776a...  0662888007    0.005102   \n\n   feedback  \n0  0.691657  \n1  5.000000  \n2  2.179690  \n3  0.057682  \n4  1.898106  ",
      "text/html": "<div>\n<style scoped>\n    .dataframe tbody tr th:only-of-type {\n        vertical-align: middle;\n    }\n\n    .dataframe tbody tr th {\n        vertical-align: top;\n    }\n\n    .dataframe thead th {\n        text-align: right;\n    }\n</style>\n<table border=\"1\" class=\"dataframe\">\n  <thead>\n    <tr style=\"text-align: right;\">\n      <th></th>\n      <th>customer_id</th>\n      <th>article_id</th>\n      <th>pop_factor</th>\n      <th>feedback</th>\n    </tr>\n  </thead>\n  <tbody>\n    <tr>\n      <th>0</th>\n      <td>e69e88c32307b9b25f5a3d9652d5ff0f100698ce3ebfcb...</td>\n      <td>0903735001</td>\n      <td>0.001479</td>\n      <td>0.691657</td>\n    </tr>\n    <tr>\n      <th>1</th>\n      <td>383cae9bf5af0681eb0c5d016f2ef2e5b50c112fee7aa1...</td>\n      <td>0815550001</td>\n      <td>0.001736</td>\n      <td>5.000000</td>\n    </tr>\n    <tr>\n      <th>2</th>\n      <td>764fe28ed006f8413d8d8ccad3c24c2c0a2df51ae949a4...</td>\n      <td>0769102040</td>\n      <td>0.002770</td>\n      <td>2.179690</td>\n    </tr>\n    <tr>\n      <th>3</th>\n      <td>3d9cf1d1c74ed4435d064b4c71e45305e19901a2c59c45...</td>\n      <td>0610776105</td>\n      <td>0.001189</td>\n      <td>0.057682</td>\n    </tr>\n    <tr>\n      <th>4</th>\n      <td>f7c660bcb16f62b79329582c969eb155e47d70f4ba776a...</td>\n      <td>0662888007</td>\n      <td>0.005102</td>\n      <td>1.898106</td>\n    </tr>\n  </tbody>\n</table>\n</div>"
     },
     "execution_count": 10,
     "metadata": {},
     "output_type": "execute_result"
    }
   ],
   "source": [
    "train = train.sample(frac=1).reset_index(drop=True)\n",
    "train.head()"
   ],
   "metadata": {
    "collapsed": false,
    "pycharm": {
     "name": "#%%\n"
    }
   }
  },
  {
   "cell_type": "markdown",
   "source": [
    "# 3.FunkSVD를 이용한 DATA 학습"
   ],
   "metadata": {
    "collapsed": false,
    "pycharm": {
     "name": "#%% md\n"
    }
   }
  },
  {
   "cell_type": "code",
   "execution_count": 15,
   "outputs": [
    {
     "name": "stdout",
     "output_type": "stream",
     "text": [
      "Epoch 0: Error: 0.8085307182535995\n",
      "Epoch 1: Error: 0.6533128865977235\n",
      "Epoch 2: Error: 0.5799840168153515\n",
      "Epoch 3: Error: 0.5345877840539213\n",
      "Epoch 4: Error: 0.5023188398218753\n",
      "Epoch 5: Error: 0.4773419405148281\n",
      "Epoch 6: Error: 0.4568940832471957\n",
      "Epoch 7: Error: 0.4395206417191778\n",
      "Epoch 8: Error: 0.4244019060307467\n",
      "Epoch 9: Error: 0.4110306058563546\n",
      "Epoch 10: Error: 0.39906836981658683\n",
      "Epoch 11: Error: 0.3882724001305593\n",
      "Epoch 12: Error: 0.3784636102127844\n",
      "Epoch 13: Error: 0.3695161608487101\n",
      "Epoch 14: Error: 0.36132512897480507\n",
      "Epoch 15: Error: 0.3537978635318129\n",
      "Epoch 16: Error: 0.34686203071249316\n",
      "Epoch 17: Error: 0.340450261956018\n",
      "Epoch 18: Error: 0.33450473857963436\n",
      "Epoch 19: Error: 0.3289745887950932\n",
      "Epoch 20: Error: 0.32381625309414297\n",
      "Epoch 21: Error: 0.31898700648101164\n",
      "Epoch 22: Error: 0.31445217284982097\n",
      "Epoch 23: Error: 0.310180493360066\n",
      "Epoch 24: Error: 0.3061453085800974\n",
      "Epoch 25: Error: 0.30232543769731857\n",
      "Epoch 26: Error: 0.2987006282091108\n",
      "Epoch 27: Error: 0.29525174245541563\n",
      "Epoch 28: Error: 0.29196263421722\n",
      "Epoch 29: Error: 0.28882064499940396\n",
      "Epoch 30: Error: 0.2858125358833375\n",
      "Epoch 31: Error: 0.28292816029505874\n",
      "Epoch 32: Error: 0.28015798434918326\n",
      "Epoch 33: Error: 0.27749303064850606\n",
      "Epoch 34: Error: 0.27492478124886666\n",
      "Epoch 35: Error: 0.2724467304112098\n",
      "Epoch 36: Error: 0.27005252736402896\n",
      "Epoch 37: Error: 0.26773670484289347\n",
      "Epoch 38: Error: 0.2654937777362454\n",
      "Epoch 39: Error: 0.2633196017988743\n",
      "Epoch 40: Error: 0.2612103870074916\n",
      "Epoch 41: Error: 0.2591618154905711\n",
      "Epoch 42: Error: 0.2571702642879822\n",
      "Epoch 43: Error: 0.25523288968491387\n",
      "Epoch 44: Error: 0.2533469830331984\n",
      "Epoch 45: Error: 0.2515089481573094\n",
      "Epoch 46: Error: 0.24971659013322653\n",
      "Epoch 47: Error: 0.24796717348129624\n",
      "Epoch 48: Error: 0.24625855131045415\n",
      "Epoch 49: Error: 0.24458874469754166\n",
      "Epoch 50: Error: 0.24295687354563977\n",
      "Epoch 51: Error: 0.24136089503802277\n",
      "Epoch 52: Error: 0.23979877104140174\n",
      "Epoch 53: Error: 0.2382684758228638\n",
      "Epoch 54: Error: 0.23676926054181452\n",
      "Epoch 55: Error: 0.235300305396254\n",
      "Epoch 56: Error: 0.23386095028275375\n",
      "Epoch 57: Error: 0.23244864920037933\n",
      "Epoch 58: Error: 0.23106221255241094\n",
      "Epoch 59: Error: 0.22970137046691264\n",
      "Epoch 60: Error: 0.2283644892947241\n",
      "Epoch 61: Error: 0.22705075009495418\n",
      "Epoch 62: Error: 0.22575917050074748\n",
      "Epoch 63: Error: 0.22448914581142101\n",
      "Epoch 64: Error: 0.22324054217098335\n",
      "Epoch 65: Error: 0.22201212229335826\n",
      "Epoch 66: Error: 0.22080312161964108\n",
      "Epoch 67: Error: 0.21961307702273017\n",
      "Epoch 68: Error: 0.2184413928944573\n",
      "Epoch 69: Error: 0.2172874442642696\n",
      "Epoch 70: Error: 0.2161504291235066\n",
      "Epoch 71: Error: 0.21502993390178807\n",
      "Epoch 72: Error: 0.21392562476379626\n",
      "Epoch 73: Error: 0.21283734211633673\n",
      "Epoch 74: Error: 0.2117642984831531\n",
      "Epoch 75: Error: 0.2107060058472335\n",
      "Epoch 76: Error: 0.20966219320454713\n",
      "Epoch 77: Error: 0.20863233813669688\n",
      "Epoch 78: Error: 0.20761604813942877\n",
      "Epoch 79: Error: 0.2066126365127498\n",
      "Epoch 80: Error: 0.20562193195809267\n",
      "Epoch 81: Error: 0.2046437757311138\n",
      "Epoch 82: Error: 0.20367777209505578\n",
      "Epoch 83: Error: 0.20272346769170857\n",
      "Epoch 84: Error: 0.2017806188813361\n",
      "Epoch 85: Error: 0.20084897233868246\n",
      "Epoch 86: Error: 0.1999283604436983\n",
      "Epoch 87: Error: 0.19901827271404243\n",
      "Epoch 88: Error: 0.198118484089056\n",
      "Epoch 89: Error: 0.19722860693383595\n",
      "Epoch 90: Error: 0.1963482435930231\n",
      "Epoch 91: Error: 0.19547738872133832\n",
      "Epoch 92: Error: 0.19461607101764156\n",
      "Epoch 93: Error: 0.1937640011430408\n",
      "Epoch 94: Error: 0.19292086324528787\n",
      "Epoch 95: Error: 0.19208660917836365\n",
      "Epoch 96: Error: 0.19126087153522184\n",
      "Epoch 97: Error: 0.19044371487671205\n",
      "Epoch 98: Error: 0.18963499939607784\n",
      "Epoch 99: Error: 0.18883449284939202\n",
      "Epoch 100: Error: 0.1880419137386681\n",
      "Epoch 101: Error: 0.18725714202714813\n",
      "Epoch 102: Error: 0.18647986524161908\n",
      "Epoch 103: Error: 0.1857103438576503\n",
      "Epoch 104: Error: 0.18494832203804415\n",
      "Epoch 105: Error: 0.18419353658399673\n",
      "Epoch 106: Error: 0.1834460436944553\n",
      "Epoch 107: Error: 0.182705477166735\n",
      "Epoch 108: Error: 0.18197191703963947\n",
      "Epoch 109: Error: 0.1812452824774684\n",
      "Epoch 110: Error: 0.1805254539900261\n",
      "Epoch 111: Error: 0.1798122459191073\n",
      "Epoch 112: Error: 0.17910564844896498\n",
      "Epoch 113: Error: 0.17840560325287702\n",
      "Epoch 114: Error: 0.1777117930698535\n",
      "Epoch 115: Error: 0.17702404927046206\n",
      "Epoch 116: Error: 0.1763424295407158\n",
      "Epoch 117: Error: 0.1756667991210926\n",
      "Epoch 118: Error: 0.17499703627955043\n",
      "Epoch 119: Error: 0.17433316498914742\n",
      "Epoch 120: Error: 0.17367511327121332\n",
      "Epoch 121: Error: 0.17302279333076606\n",
      "Epoch 122: Error: 0.17237607610052133\n",
      "Epoch 123: Error: 0.1717347456501294\n",
      "Epoch 124: Error: 0.1710989265428963\n",
      "Epoch 125: Error: 0.1704685215167523\n",
      "Epoch 126: Error: 0.16984342009969228\n",
      "Epoch 127: Error: 0.16922357130747145\n",
      "Epoch 128: Error: 0.16860880655213015\n",
      "Epoch 129: Error: 0.1679991000380589\n",
      "Epoch 130: Error: 0.16739431050470296\n",
      "Epoch 131: Error: 0.16679434143559196\n",
      "Epoch 132: Error: 0.16619933233744807\n",
      "Epoch 133: Error: 0.16560915062819495\n",
      "Epoch 134: Error: 0.1650237182427312\n",
      "Epoch 135: Error: 0.16444301424247337\n",
      "Epoch 136: Error: 0.16386691500035613\n",
      "Epoch 137: Error: 0.16329545620504773\n",
      "Epoch 138: Error: 0.162728551007441\n",
      "Epoch 139: Error: 0.16216617031910982\n",
      "Epoch 140: Error: 0.16160831777024434\n",
      "Epoch 141: Error: 0.1610549219851947\n",
      "Epoch 142: Error: 0.16050585850881102\n",
      "Epoch 143: Error: 0.15996121561243637\n",
      "Epoch 144: Error: 0.15942093622927317\n",
      "Epoch 145: Error: 0.15888498583323168\n",
      "Epoch 146: Error: 0.15835322817105096\n",
      "Epoch 147: Error: 0.15782572930744915\n",
      "Epoch 148: Error: 0.1573024467050879\n",
      "Epoch 149: Error: 0.15678325119729394\n",
      "Epoch 150: Error: 0.1562679735472265\n",
      "Epoch 151: Error: 0.1557567332153442\n",
      "Epoch 152: Error: 0.1552493942860321\n",
      "Epoch 153: Error: 0.15474596215612166\n",
      "Epoch 154: Error: 0.1542463780057733\n",
      "Epoch 155: Error: 0.15375064884103026\n",
      "Epoch 156: Error: 0.15325863366190617\n",
      "Epoch 157: Error: 0.15277026642623126\n",
      "Epoch 158: Error: 0.1522855109369496\n",
      "Epoch 159: Error: 0.15180446487532942\n",
      "Epoch 160: Error: 0.15132703276583312\n",
      "Epoch 161: Error: 0.1508531879876385\n",
      "Epoch 162: Error: 0.15038289054589413\n",
      "Epoch 163: Error: 0.14991619275133372\n",
      "Epoch 164: Error: 0.14945300978899534\n",
      "Epoch 165: Error: 0.1489932219243215\n",
      "Epoch 166: Error: 0.14853683888423086\n",
      "Epoch 167: Error: 0.14808387799842776\n",
      "Epoch 168: Error: 0.1476342453318241\n",
      "Epoch 169: Error: 0.1471878191688941\n",
      "Epoch 170: Error: 0.14674457600951657\n",
      "Epoch 171: Error: 0.1463046565141372\n",
      "Epoch 172: Error: 0.1458679839142405\n",
      "Epoch 173: Error: 0.1454344603316872\n",
      "Epoch 174: Error: 0.1450040826093914\n",
      "Epoch 175: Error: 0.1445769357034048\n",
      "Epoch 176: Error: 0.14415295440785597\n",
      "Epoch 177: Error: 0.14373206951113193\n",
      "Epoch 178: Error: 0.1433143312633333\n",
      "Epoch 179: Error: 0.14289960723796513\n",
      "Epoch 180: Error: 0.14248784680485269\n",
      "Epoch 181: Error: 0.14207911705946644\n",
      "Epoch 182: Error: 0.14167332444868108\n",
      "Epoch 183: Error: 0.14127047057634298\n",
      "Epoch 184: Error: 0.14087045359013362\n",
      "Epoch 185: Error: 0.14047321758081294\n",
      "Epoch 186: Error: 0.14007874966405787\n",
      "Epoch 187: Error: 0.13968704477282953\n",
      "Epoch 188: Error: 0.13929812629850252\n",
      "Epoch 189: Error: 0.1389119845752653\n",
      "Epoch 190: Error: 0.13852861783795972\n",
      "Epoch 191: Error: 0.1381480266467479\n",
      "Epoch 192: Error: 0.13777029504465915\n",
      "Epoch 193: Error: 0.1373952772743139\n",
      "Epoch 194: Error: 0.13702294781412994\n",
      "Epoch 195: Error: 0.13665320569981343\n",
      "Epoch 196: Error: 0.13628605671710317\n",
      "Epoch 197: Error: 0.13592149959194724\n",
      "Epoch 198: Error: 0.1355595150788421\n",
      "Epoch 199: Error: 0.1352000268153192\n",
      "Epoch 200: Error: 0.13484302435962478\n",
      "Epoch 201: Error: 0.13448855419930336\n",
      "Epoch 202: Error: 0.13413653902901868\n",
      "Epoch 203: Error: 0.13378695106428817\n",
      "Epoch 204: Error: 0.1334397587063694\n",
      "Epoch 205: Error: 0.13309489580819786\n",
      "Epoch 206: Error: 0.13275237065863355\n",
      "Epoch 207: Error: 0.1324122710847518\n",
      "Epoch 208: Error: 0.13207450663049328\n",
      "Epoch 209: Error: 0.1317391120364568\n",
      "Epoch 210: Error: 0.13140611682759307\n",
      "Epoch 211: Error: 0.13107538214189235\n",
      "Epoch 212: Error: 0.13074692117423292\n",
      "Epoch 213: Error: 0.13042069040568066\n",
      "Epoch 214: Error: 0.130096714135098\n",
      "Epoch 215: Error: 0.12977490705338188\n",
      "Epoch 216: Error: 0.12945530610517297\n",
      "Epoch 217: Error: 0.12913787084885886\n",
      "Epoch 218: Error: 0.12882252039709047\n",
      "Epoch 219: Error: 0.1285092918517972\n",
      "Epoch 220: Error: 0.12819822306071804\n",
      "Epoch 221: Error: 0.12788925557502293\n",
      "Epoch 222: Error: 0.1275823055496613\n",
      "Epoch 223: Error: 0.12727743575290534\n",
      "Epoch 224: Error: 0.12697459768060182\n",
      "Epoch 225: Error: 0.12667376762689808\n",
      "Epoch 226: Error: 0.1263749318843126\n",
      "Epoch 227: Error: 0.1260780343198714\n",
      "Epoch 228: Error: 0.1257830851300398\n",
      "Epoch 229: Error: 0.1254900541726276\n",
      "Epoch 230: Error: 0.12519894126913786\n",
      "Epoch 231: Error: 0.1249097309837489\n",
      "Epoch 232: Error: 0.12462240167549718\n",
      "Epoch 233: Error: 0.12433696583060468\n",
      "Epoch 234: Error: 0.12405340352298616\n",
      "Epoch 235: Error: 0.12377170264839814\n",
      "Epoch 236: Error: 0.12349184397374606\n",
      "Epoch 237: Error: 0.12321378471221693\n",
      "Epoch 238: Error: 0.12293751224877664\n",
      "Epoch 239: Error: 0.12266297197701367\n",
      "Epoch 240: Error: 0.12239022588390518\n",
      "Epoch 241: Error: 0.12211924074650571\n",
      "Epoch 242: Error: 0.1218500389759351\n",
      "Epoch 243: Error: 0.1215825217012322\n",
      "Epoch 244: Error: 0.12131672572750822\n",
      "Epoch 245: Error: 0.12105266678295908\n",
      "Epoch 246: Error: 0.12079031789064863\n",
      "Epoch 247: Error: 0.12052962285500118\n",
      "Epoch 248: Error: 0.12027060488659592\n",
      "Epoch 249: Error: 0.12001324775927186\n",
      "Epoch 250: Error: 0.11975756091795776\n",
      "Epoch 251: Error: 0.11950349540643923\n",
      "Epoch 252: Error: 0.1192510482997519\n",
      "Epoch 253: Error: 0.11900022448054869\n",
      "Epoch 254: Error: 0.11875099432400733\n",
      "Epoch 255: Error: 0.11850333289354484\n",
      "Epoch 256: Error: 0.11825722112282458\n",
      "Epoch 257: Error: 0.11801269923465597\n",
      "Epoch 258: Error: 0.11776974708137897\n",
      "Epoch 259: Error: 0.11752832590045027\n",
      "Epoch 260: Error: 0.11728844933756434\n",
      "Epoch 261: Error: 0.11705011062874504\n",
      "Epoch 262: Error: 0.11681325955634285\n",
      "Epoch 263: Error: 0.11657790249721889\n",
      "Epoch 264: Error: 0.1163440253838749\n",
      "Epoch 265: Error: 0.11611163475582009\n",
      "Epoch 266: Error: 0.11588070004060529\n",
      "Epoch 267: Error: 0.11565123074127125\n",
      "Epoch 268: Error: 0.11542322528518628\n",
      "Epoch 269: Error: 0.11519665927288657\n",
      "Epoch 270: Error: 0.11497149384337085\n",
      "Epoch 271: Error: 0.11474770245445752\n",
      "Epoch 272: Error: 0.11452529311361942\n",
      "Epoch 273: Error: 0.11430425984156413\n",
      "Epoch 274: Error: 0.11408460033960122\n",
      "Epoch 275: Error: 0.11386629640965225\n",
      "Epoch 276: Error: 0.11364932835947117\n",
      "Epoch 277: Error: 0.11343369603140424\n",
      "Epoch 278: Error: 0.11321936921166692\n",
      "Epoch 279: Error: 0.11300634740013721\n",
      "Epoch 280: Error: 0.11279461395153088\n",
      "Epoch 281: Error: 0.11258417394916989\n",
      "Epoch 282: Error: 0.11237501719824598\n",
      "Epoch 283: Error: 0.11216712846654553\n",
      "Epoch 284: Error: 0.11196047922292944\n",
      "Epoch 285: Error: 0.1117550528098532\n",
      "Epoch 286: Error: 0.11155086909532357\n",
      "Epoch 287: Error: 0.11134791721473764\n",
      "Epoch 288: Error: 0.11114617761225007\n",
      "Epoch 289: Error: 0.11094566437336717\n",
      "Epoch 290: Error: 0.11074636806194421\n",
      "Epoch 291: Error: 0.11054826845776691\n",
      "Epoch 292: Error: 0.11035134881360577\n",
      "Epoch 293: Error: 0.11015560271028536\n",
      "Epoch 294: Error: 0.10996100963878301\n",
      "Epoch 295: Error: 0.10976758622527324\n",
      "Epoch 296: Error: 0.10957533476183196\n",
      "Epoch 297: Error: 0.10938422328024777\n",
      "Epoch 298: Error: 0.10919425762467744\n",
      "Epoch 299: Error: 0.1090054470549115\n"
     ]
    }
   ],
   "source": [
    "from reco.recommender import FunkSVD\n",
    "\n",
    "f = FunkSVD(k=64, learning_rate=0.002, regularizer = 0.05, iterations = 300, method = 'stochastic', bias=True)\n",
    "f.fit(X=train, formatizer={'user':'customer_id', 'item':'article_id', 'value':'feedback'},verbose=True)"
   ],
   "metadata": {
    "collapsed": false,
    "pycharm": {
     "name": "#%%\n"
    }
   }
  },
  {
   "cell_type": "markdown",
   "source": [
    "# 4. Submission"
   ],
   "metadata": {
    "collapsed": false,
    "pycharm": {
     "name": "#%% md\n"
    }
   }
  },
  {
   "cell_type": "code",
   "execution_count": 16,
   "outputs": [
    {
     "data": {
      "text/plain": "                                         customer_id  \\\n0  00000dbacae5abe5e23885899a1fa44253a17956c6d1c3...   \n1  0000423b00ade91418cceaf3b26c6af3dd342b51fd051e...   \n2  000058a12d5b43e67d225668fa1f8d618c13dc232df0ca...   \n3  00005ca1c9ed5f5146b52ac8639a40ca9d57aeff4d1bd2...   \n4  00006413d8573cd20ed7128e53b7b13819fe5cfc2d801f...   \n\n                                          prediction  \n0  0706016001 0706016002 0372860001 0610776002 07...  \n1  0706016001 0706016002 0372860001 0610776002 07...  \n2  0706016001 0706016002 0372860001 0610776002 07...  \n3  0706016001 0706016002 0372860001 0610776002 07...  \n4  0706016001 0706016002 0372860001 0610776002 07...  ",
      "text/html": "<div>\n<style scoped>\n    .dataframe tbody tr th:only-of-type {\n        vertical-align: middle;\n    }\n\n    .dataframe tbody tr th {\n        vertical-align: top;\n    }\n\n    .dataframe thead th {\n        text-align: right;\n    }\n</style>\n<table border=\"1\" class=\"dataframe\">\n  <thead>\n    <tr style=\"text-align: right;\">\n      <th></th>\n      <th>customer_id</th>\n      <th>prediction</th>\n    </tr>\n  </thead>\n  <tbody>\n    <tr>\n      <th>0</th>\n      <td>00000dbacae5abe5e23885899a1fa44253a17956c6d1c3...</td>\n      <td>0706016001 0706016002 0372860001 0610776002 07...</td>\n    </tr>\n    <tr>\n      <th>1</th>\n      <td>0000423b00ade91418cceaf3b26c6af3dd342b51fd051e...</td>\n      <td>0706016001 0706016002 0372860001 0610776002 07...</td>\n    </tr>\n    <tr>\n      <th>2</th>\n      <td>000058a12d5b43e67d225668fa1f8d618c13dc232df0ca...</td>\n      <td>0706016001 0706016002 0372860001 0610776002 07...</td>\n    </tr>\n    <tr>\n      <th>3</th>\n      <td>00005ca1c9ed5f5146b52ac8639a40ca9d57aeff4d1bd2...</td>\n      <td>0706016001 0706016002 0372860001 0610776002 07...</td>\n    </tr>\n    <tr>\n      <th>4</th>\n      <td>00006413d8573cd20ed7128e53b7b13819fe5cfc2d801f...</td>\n      <td>0706016001 0706016002 0372860001 0610776002 07...</td>\n    </tr>\n  </tbody>\n</table>\n</div>"
     },
     "execution_count": 16,
     "metadata": {},
     "output_type": "execute_result"
    }
   ],
   "source": [
    "submission = pd.read_csv(\"./sample_submission.csv\")\n",
    "submission.head()"
   ],
   "metadata": {
    "collapsed": false,
    "pycharm": {
     "name": "#%%\n"
    }
   }
  },
  {
   "cell_type": "code",
   "execution_count": 19,
   "outputs": [
    {
     "name": "stderr",
     "output_type": "stream",
     "text": [
      "100%|██████████| 250619/250619 [00:01<00:00, 199699.47it/s]\n"
     ]
    }
   ],
   "source": [
    "def get_most_freq_next_item(user_group):\n",
    "    next_items = {}\n",
    "    for user in tqdm(user_group.keys()):\n",
    "        items = user_group[user]\n",
    "        for i,item in enumerate(items[:-1]):\n",
    "            if item not in next_items:\n",
    "                next_items[item] = []\n",
    "            if item != items[i+1]:\n",
    "                next_items[item].append(items[i+1])\n",
    "\n",
    "    pred_next = {}\n",
    "    for item in next_items:\n",
    "        if len(next_items[item]) >= 5:\n",
    "            most_common = Counter(next_items[item]).most_common()\n",
    "            ratio = most_common[0][1]/len(next_items[item])\n",
    "            if ratio >= 0.1:\n",
    "                pred_next[item] = most_common[0][0]\n",
    "\n",
    "    return pred_next\n",
    "\n",
    "pred_next = get_most_freq_next_item(user_group)"
   ],
   "metadata": {
    "collapsed": false,
    "pycharm": {
     "name": "#%%\n"
    }
   }
  },
  {
   "cell_type": "code",
   "execution_count": 20,
   "outputs": [
    {
     "name": "stderr",
     "output_type": "stream",
     "text": [
      "100%|██████████| 1371980/1371980 [06:12<00:00, 3684.89it/s]\n"
     ]
    }
   ],
   "source": [
    "outputs = []\n",
    "cnt = 0\n",
    "\n",
    "popular_items = list(popular_items)\n",
    "userindexes = {f.users[i]:i for i in range(len(f.users))}\n",
    "\n",
    "for user in tqdm(submission['customer_id']):\n",
    "    user_output = []\n",
    "    if user in positive_items_per_user1.keys():\n",
    "        most_common_items_of_user = {k:v for k, v in Counter(positive_items_per_user1[user]).most_common()}\n",
    "\n",
    "        user_index = userindexes[user]\n",
    "        new_order = {}\n",
    "        for k in list(most_common_items_of_user.keys())[:20]:\n",
    "            try:\n",
    "                itemindex = f.items.index(k)\n",
    "                pred_value = np.dot(f.userfeatures[user_index], f.itemfeatures[itemindex].T) + f.item_bias[0, itemindex]\n",
    "            except:\n",
    "                pred_value = most_common_items_of_user[k]\n",
    "            new_order[k] = pred_value\n",
    "        user_output += [k for k, v in sorted(new_order.items(), key=lambda item: item[1])][:12]\n",
    "\n",
    "    if user in positive_items_per_user2.keys():\n",
    "        most_common_items_of_user = {k:v for k, v in Counter(positive_items_per_user2[user]).most_common()}\n",
    "\n",
    "        user_index = userindexes[user]\n",
    "        new_order = {}\n",
    "        for k in list(most_common_items_of_user.keys())[:20]:\n",
    "            try:\n",
    "                itemindex = f.items.index(k)\n",
    "                pred_value = np.dot(f.userfeatures[user_index], f.itemfeatures[itemindex].T) + f.item_bias[0, itemindex]\n",
    "            except:\n",
    "                pred_value = most_common_items_of_user[k]\n",
    "            new_order[k] = pred_value\n",
    "        user_output += [k for k, v in sorted(new_order.items(), key=lambda item: item[1])][:12]\n",
    "\n",
    "    if user in positive_items_per_user3.keys():\n",
    "        most_common_items_of_user = {k:v for k, v in Counter(positive_items_per_user3[user]).most_common()}\n",
    "\n",
    "        user_index = userindexes[user]\n",
    "        new_order = {}\n",
    "        for k in list(most_common_items_of_user.keys())[:20]:\n",
    "            try:\n",
    "                itemindex = f.items.index(k)\n",
    "                pred_value = np.dot(f.userfeatures[user_index], f.itemfeatures[itemindex].T) + f.item_bias[0, itemindex]\n",
    "            except:\n",
    "                pred_value = most_common_items_of_user[k]\n",
    "            new_order[k] = pred_value\n",
    "        user_output += [k for k, v in sorted(new_order.items(), key=lambda item: item[1])][:12]\n",
    "\n",
    "    if user in positive_items_per_user4.keys():\n",
    "        most_common_items_of_user = {k:v for k, v in Counter(positive_items_per_user4[user]).most_common()}\n",
    "\n",
    "        user_index = userindexes[user]\n",
    "        new_order = {}\n",
    "        for k in list(most_common_items_of_user.keys())[:20]:\n",
    "            try:\n",
    "                itemindex = f.items.index(k)\n",
    "                pred_value = np.dot(f.userfeatures[user_index], f.itemfeatures[itemindex].T) + f.item_bias[0, itemindex]\n",
    "            except:\n",
    "                pred_value = most_common_items_of_user[k]\n",
    "            new_order[k] = pred_value\n",
    "        user_output += [k for k, v in sorted(new_order.items(), key=lambda item: item[1])][:12]\n",
    "\n",
    "    user_output += [pred_next[item] for item in user_output if item in pred_next and pred_next[item] not in user_output]\n",
    "\n",
    "    user_output += list(popular_items[:12 - len(user_output)])\n",
    "    outputs.append(user_output)\n",
    "\n",
    "str_outputs = []\n",
    "for output in outputs:\n",
    "    str_outputs.append(\" \".join([str(x) for x in output]))"
   ],
   "metadata": {
    "collapsed": false,
    "pycharm": {
     "name": "#%%\n"
    }
   }
  },
  {
   "cell_type": "code",
   "execution_count": 21,
   "outputs": [],
   "source": [
    "submission['prediction'] = str_outputs\n",
    "submission.to_csv(\"submissions.csv\", index=False)"
   ],
   "metadata": {
    "collapsed": false,
    "pycharm": {
     "name": "#%%\n"
    }
   }
  },
  {
   "cell_type": "code",
   "execution_count": 22,
   "outputs": [
    {
     "data": {
      "text/plain": "                                         customer_id  \\\n0  00000dbacae5abe5e23885899a1fa44253a17956c6d1c3...   \n1  0000423b00ade91418cceaf3b26c6af3dd342b51fd051e...   \n2  000058a12d5b43e67d225668fa1f8d618c13dc232df0ca...   \n3  00005ca1c9ed5f5146b52ac8639a40ca9d57aeff4d1bd2...   \n4  00006413d8573cd20ed7128e53b7b13819fe5cfc2d801f...   \n\n                                          prediction  \n0  0568601043 0924243001 0924243002 0918522001 07...  \n1  0924243001 0924243002 0918522001 0751471001 04...  \n2  0794321007 0805000001 0924243001 0924243002 09...  \n3  0924243001 0924243002 0918522001 0751471001 04...  \n4  0924243001 0924243002 0918522001 0751471001 04...  ",
      "text/html": "<div>\n<style scoped>\n    .dataframe tbody tr th:only-of-type {\n        vertical-align: middle;\n    }\n\n    .dataframe tbody tr th {\n        vertical-align: top;\n    }\n\n    .dataframe thead th {\n        text-align: right;\n    }\n</style>\n<table border=\"1\" class=\"dataframe\">\n  <thead>\n    <tr style=\"text-align: right;\">\n      <th></th>\n      <th>customer_id</th>\n      <th>prediction</th>\n    </tr>\n  </thead>\n  <tbody>\n    <tr>\n      <th>0</th>\n      <td>00000dbacae5abe5e23885899a1fa44253a17956c6d1c3...</td>\n      <td>0568601043 0924243001 0924243002 0918522001 07...</td>\n    </tr>\n    <tr>\n      <th>1</th>\n      <td>0000423b00ade91418cceaf3b26c6af3dd342b51fd051e...</td>\n      <td>0924243001 0924243002 0918522001 0751471001 04...</td>\n    </tr>\n    <tr>\n      <th>2</th>\n      <td>000058a12d5b43e67d225668fa1f8d618c13dc232df0ca...</td>\n      <td>0794321007 0805000001 0924243001 0924243002 09...</td>\n    </tr>\n    <tr>\n      <th>3</th>\n      <td>00005ca1c9ed5f5146b52ac8639a40ca9d57aeff4d1bd2...</td>\n      <td>0924243001 0924243002 0918522001 0751471001 04...</td>\n    </tr>\n    <tr>\n      <th>4</th>\n      <td>00006413d8573cd20ed7128e53b7b13819fe5cfc2d801f...</td>\n      <td>0924243001 0924243002 0918522001 0751471001 04...</td>\n    </tr>\n  </tbody>\n</table>\n</div>"
     },
     "execution_count": 22,
     "metadata": {},
     "output_type": "execute_result"
    }
   ],
   "source": [
    "submission.head()"
   ],
   "metadata": {
    "collapsed": false,
    "pycharm": {
     "name": "#%%\n"
    }
   }
  },
  {
   "cell_type": "code",
   "execution_count": null,
   "outputs": [],
   "source": [],
   "metadata": {
    "collapsed": false,
    "pycharm": {
     "name": "#%%\n"
    }
   }
  }
 ],
 "metadata": {
  "kernelspec": {
   "display_name": "Python 3",
   "language": "python",
   "name": "python3"
  },
  "language_info": {
   "codemirror_mode": {
    "name": "ipython",
    "version": 2
   },
   "file_extension": ".py",
   "mimetype": "text/x-python",
   "name": "python",
   "nbconvert_exporter": "python",
   "pygments_lexer": "ipython2",
   "version": "2.7.6"
  }
 },
 "nbformat": 4,
 "nbformat_minor": 0
}